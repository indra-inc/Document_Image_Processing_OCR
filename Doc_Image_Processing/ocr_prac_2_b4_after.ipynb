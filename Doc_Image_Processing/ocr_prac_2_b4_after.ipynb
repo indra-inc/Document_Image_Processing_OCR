{
 "cells": [
  {
   "cell_type": "code",
   "execution_count": 1,
   "metadata": {},
   "outputs": [],
   "source": [
    "## Import necessary lib\n",
    "import pandas as pd\n",
    "import numpy as np\n",
    "import matplotlib.pyplot as plt\n",
    "%matplotlib inline\n",
    "import seaborn as sns\n",
    "import warnings\n",
    "warnings.filterwarnings(\"ignore\")\n",
    "plt.style.use('dark_background')\n",
    "\n",
    "# from google.colab.patches import cv2_imshow\n",
    "import cv2\n",
    "from pdf2image import convert_from_path\n",
    "import pytesseract as pyt"
   ]
  },
  {
   "cell_type": "code",
   "execution_count": 2,
   "metadata": {},
   "outputs": [],
   "source": [
    "image_path = './test_data/page59.jpg'"
   ]
  },
  {
   "cell_type": "code",
   "execution_count": 3,
   "metadata": {},
   "outputs": [],
   "source": [
    "## Read the image and show it on CV\n",
    "def readCV(path):\n",
    "\n",
    "    imageRAW = cv2.imread(path, cv2.IMREAD_UNCHANGED)\n",
    "\n",
    "    return imageRAW\n",
    "\n",
    "## Show the image in CV2\n",
    "def showCV(image):\n",
    "\n",
    "    cv2.imshow('Image', image)\n",
    "    cv2.waitKey(0)\n",
    "    cv2.destroyAllWindows()\n",
    "\n",
    "\n",
    " ## Basic Health of the image\n",
    "def healthCheck(image):\n",
    "\n",
    "    print('Here is the Basic Health Check of the Image')\n",
    "    display('Type of the Image is:',type(image))\n",
    "    display('Datatype of the Image:',image.dtype)\n",
    "    display('Shape of the Image:',image.shape)\n"
   ]
  },
  {
   "cell_type": "code",
   "execution_count": 4,
   "metadata": {},
   "outputs": [
    {
     "name": "stderr",
     "output_type": "stream",
     "text": [
      "qt.qpa.plugin: Could not find the Qt platform plugin \"wayland\" in \"/home/Indranath.Chatterjee/ocr_demo/ocr-project-venv/lib/python3.10/site-packages/cv2/qt/plugins\"\n"
     ]
    },
    {
     "name": "stdout",
     "output_type": "stream",
     "text": [
      "Here is the Basic Health Check of the Image\n"
     ]
    },
    {
     "data": {
      "text/plain": [
       "'Type of the Image is:'"
      ]
     },
     "metadata": {},
     "output_type": "display_data"
    },
    {
     "data": {
      "text/plain": [
       "numpy.ndarray"
      ]
     },
     "metadata": {},
     "output_type": "display_data"
    },
    {
     "data": {
      "text/plain": [
       "'Datatype of the Image:'"
      ]
     },
     "metadata": {},
     "output_type": "display_data"
    },
    {
     "data": {
      "text/plain": [
       "dtype('uint8')"
      ]
     },
     "metadata": {},
     "output_type": "display_data"
    },
    {
     "data": {
      "text/plain": [
       "'Shape of the Image:'"
      ]
     },
     "metadata": {},
     "output_type": "display_data"
    },
    {
     "data": {
      "text/plain": [
       "(2299, 1647, 3)"
      ]
     },
     "metadata": {},
     "output_type": "display_data"
    }
   ],
   "source": [
    "imgRaw = readCV(image_path)\n",
    "showCV(imgRaw)\n",
    "healthCheck(imgRaw)"
   ]
  },
  {
   "cell_type": "code",
   "execution_count": 5,
   "metadata": {},
   "outputs": [
    {
     "name": "stdout",
     "output_type": "stream",
     "text": [
      "Basic MEpicaL RECORD PROCEDURES\n",
      "summary is already in the record, it is checked and if it includes all the requested\n",
      "\n",
      "information, a copy is made. This will save the doctor from having to write a new\n",
      "report.\n",
      "\n",
      "Example of format for a summary of medical record information for a medico-legal case:\n",
      "\n",
      "To: (name of lawyer or law firm requesting information)\n",
      "\n",
      "Dear.\n",
      "\n",
      "The following is a summary of the medical record of (patient’s name)\n",
      "Age____ living at (address)\n",
      "\n",
      "who was admitted to this hospital on (date of admission)\n",
      "and who was discharged (or died) on (date of discharge or death)\n",
      "\n",
      "HISTORY:\n",
      "\n",
      "PHYSICAL EXAMINATION:\n",
      "\n",
      "LABORATORY REPORTS:\n",
      "\n",
      "OPERATION/PROCEDURE\n",
      "\n",
      "Pathological Report\n",
      "\n",
      "FINAL DIAGNOSIS:\n",
      "\n",
      "RESULT ON DISCHARGE:\n",
      "\n",
      "SIGNED: (Attending Doctor)\n",
      "\n",
      "53\n",
      "\n"
     ]
    }
   ],
   "source": [
    "## Extract text from image_opencv\n",
    "txt_without = pyt.image_to_string(imgRaw)\n",
    "print(txt_without)"
   ]
  },
  {
   "cell_type": "code",
   "execution_count": 8,
   "metadata": {},
   "outputs": [],
   "source": [
    "## Save the file\n",
    "with open('./extracted_text_from_images/text_extracted_w-o.txt', 'w') as f:\n",
    "    f.write(txt_without)"
   ]
  },
  {
   "attachments": {},
   "cell_type": "markdown",
   "metadata": {},
   "source": [
    "## Basic Preprocessing:"
   ]
  },
  {
   "cell_type": "code",
   "execution_count": 9,
   "metadata": {},
   "outputs": [],
   "source": [
    "## Gray Scale conversion of the Image\n",
    "def gray(image):\n",
    "\n",
    "    ## Approach-1: Read images in GrayScale\n",
    "    # imgGray2 = cv2.imread(samp2, cv2.IMREAD_GRAYSCALE)\n",
    "    \n",
    "    ## Approach-2\n",
    "    imageGray = cv2.cvtColor(image, cv2.COLOR_BGR2GRAY)\n",
    "    return imageGray\n",
    "\n",
    "## Binary Thresolding\n",
    "def binThres(image):\n",
    "\n",
    "    ## Threshold the image to create a binary image  using Otsu’s Binarization\n",
    "\n",
    "    Thresh, imgBinThres = cv2.threshold(image, 0, 255, cv2.THRESH_BINARY | cv2.THRESH_OTSU)\n",
    "\n",
    "    return imgBinThres\n",
    "\n",
    " ## Resizing with scale factor\n",
    "def resizeScaling(image):\n",
    "\n",
    "    ## As cv2 shape come up with height and width format\n",
    "    height, width = image.shape[:2]\n",
    "    scale_factor = float(input('Put the Scale Factor :')) \n",
    "\n",
    "    ## Resize the image as per the scale factpr\n",
    "    new_width = int(width * scale_factor)\n",
    "    new_height = int(height * scale_factor)\n",
    "    new_size = (new_width, new_height)\n",
    "\n",
    "    # Resize the image using the new dimensions\n",
    "    imgScaled = cv2.resize(image, new_size, fx = 1.2, fy = 1.5, interpolation = cv2.INTER_LINEAR)\n",
    "\n",
    "    ## fx: A scaling factor along the horizontal axis.\n",
    "    ## fy: A scaling factor along the vertical axis.\n",
    "\n",
    "    return imgScaled"
   ]
  },
  {
   "cell_type": "code",
   "execution_count": 10,
   "metadata": {},
   "outputs": [],
   "source": [
    "## Convert image into Grayscale\n",
    "img_Gray = gray(imgRaw)\n",
    "showCV(img_Gray)\n",
    "# healthCheck(img_Gray)"
   ]
  },
  {
   "cell_type": "code",
   "execution_count": 11,
   "metadata": {},
   "outputs": [],
   "source": [
    "## Binarization\n",
    "img_Thres_bin = binThres(img_Gray)\n",
    "showCV(img_Thres_bin)\n",
    "# healthCheck(img_Thres_bin)"
   ]
  },
  {
   "cell_type": "code",
   "execution_count": 12,
   "metadata": {},
   "outputs": [],
   "source": [
    "# Denoising of image saving it into dst image \n",
    "def noiseRem(image):\n",
    "\n",
    "    imgDenoise1 = cv2.fastNlMeansDenoising(image, None, 10, 7, 21)\n",
    "\n",
    "    return imgDenoise1"
   ]
  },
  {
   "cell_type": "code",
   "execution_count": 14,
   "metadata": {},
   "outputs": [],
   "source": [
    "## Noise Removal\n",
    "img_denoise = noiseRem(img_Thres_bin)\n",
    "showCV(img_denoise)\n",
    "# healthCheck(img_Thres_bin)"
   ]
  },
  {
   "cell_type": "code",
   "execution_count": 19,
   "metadata": {},
   "outputs": [],
   "source": [
    "## Skew Correction for Text only\n",
    "\n",
    "def deskew(denoise_img):\n",
    "    \"\"\"\n",
    "    Corrects the skew of an image.\n",
    "    \n",
    "    Args:\n",
    "        image (numpy.ndarray): The image to correct the skew of.\n",
    "        \n",
    "    Returns:\n",
    "        numpy.ndarray: The image with the skew corrected.\n",
    "    \"\"\"\n",
    "    \n",
    "    edges = cv2.Canny(denoise_img, 50, 150, apertureSize=3)\n",
    "    lines = cv2.HoughLines(edges, 1, np.pi/180, 200)\n",
    "\n",
    "    # Calculate the angle of the most prominent line\n",
    "    angles = []\n",
    "    for line in lines:\n",
    "        rho, theta = line[0]\n",
    "        if abs(theta - np.pi/2) > 0.1:\n",
    "            angle = (theta - np.pi/2)*180/np.pi\n",
    "            angles.append(angle)\n",
    "\n",
    "    # Rotate the image to correct the skew\n",
    "    if len(angles) > 0:\n",
    "        median_angle = np.median(angles)\n",
    "        rows, cols = denoise_img.shape[:2]\n",
    "        M = cv2.getRotationMatrix2D((cols/2, rows/2), -median_angle, 1)\n",
    "        imageDeskw = cv2.warpAffine(denoise_img, M, (cols, rows), flags=cv2.INTER_CUBIC)\n",
    "\n",
    "    return imageDeskw"
   ]
  },
  {
   "cell_type": "code",
   "execution_count": 20,
   "metadata": {},
   "outputs": [],
   "source": [
    "img_deskewed = deskew(img_denoise)\n",
    "showCV(img_deskewed)\n",
    "# healthCheck(img_deskewed)"
   ]
  },
  {
   "cell_type": "code",
   "execution_count": 21,
   "metadata": {},
   "outputs": [],
   "source": [
    "  ## Rotation of the Image\n",
    "\n",
    "def rotation(image):\n",
    "    \n",
    "    ## Approach-1 \n",
    "\n",
    "    ## getting the first two index of the tuple\n",
    "    height, width = image.shape[:2]\n",
    "\n",
    "    # Define the rotation angle in degrees\n",
    "    angle = float(input('Put the angle of Rotation: '))\n",
    "\n",
    "    #Calculate the scale factor\n",
    "    scale_factor = 1.0  # default value i.e no scaling\n",
    "    # if angle != 0:\n",
    "    #     scale_factor = abs(math.cos(math.radians(angle))) + abs(math.sin(math.radians(angle)))\n",
    "\n",
    "    # Calculate the rotation matrix\n",
    "    center = (width / 2.0, height / 2.0)\n",
    "    # Calculate the rotation matrix\n",
    "    rotation_matrix = cv2.getRotationMatrix2D(center, angle, scale_factor)\n",
    "\n",
    "    # Perform the rotation\n",
    "    imageRotated = cv2.warpAffine(image, rotation_matrix, (width, height))\n",
    "\n",
    "\n",
    "    ## Approach-2 when rotate some specific angle\n",
    "\n",
    "    # imageRotated = cv2.rotate(image, cv2.ROTATE_90_COUNTERCLOCKWISE)\n",
    "\n",
    "    return imageRotated"
   ]
  },
  {
   "cell_type": "code",
   "execution_count": 23,
   "metadata": {},
   "outputs": [],
   "source": [
    "img_preprocessed = rotation(img_deskewed)\n",
    "showCV(img_preprocessed)"
   ]
  },
  {
   "cell_type": "code",
   "execution_count": 15,
   "metadata": {},
   "outputs": [
    {
     "name": "stdout",
     "output_type": "stream",
     "text": [
      "Basic MEpicaL RECORD PROCEDURES\n",
      "summary is already in the record, it is checked and if it includes all the requested\n",
      "\n",
      "information, a copy is made. This will save the doctor from having to write a new\n",
      "report.\n",
      "\n",
      "Example of format for a summary of medical record information for a medico-legal case:\n",
      "\n",
      "To: (name of lawyer or law firm requesting information)\n",
      "\n",
      "Dear.\n",
      "\n",
      "The following is a summary of the medical record of (patient’s name)\n",
      "Age_____ living at (address)\n",
      "\n",
      "who was admitted to this hospital on (date of admission)\n",
      "and who was discharged (or died) on (date of discharge or death)\n",
      "\n",
      "HISTORY:\n",
      "\n",
      "PHYSICAL EXAMINATION:\n",
      "\n",
      "LABORATORY REPORTS:\n",
      "\n",
      "OPERATION/PROCEDURE\n",
      "\n",
      "Pathological Report\n",
      "\n",
      "FINAL DIAGNOSIS:\n",
      "\n",
      "RESULT ON DISCHARGE:\n",
      "\n",
      "SIGNED: (Attending Doctor)\n",
      "\n",
      "53\n",
      "\n"
     ]
    }
   ],
   "source": [
    "## Extract text from image_opencv\n",
    "txt_after_prepro = pyt.image_to_string(img_denoise)\n",
    "print(txt_after_prepro)"
   ]
  },
  {
   "cell_type": "code",
   "execution_count": 16,
   "metadata": {},
   "outputs": [],
   "source": [
    "## Save the file\n",
    "with open('./extracted_text_from_images/text_extracted_preprocessed.txt', 'w') as f:\n",
    "    f.write(txt_after_prepro)"
   ]
  },
  {
   "cell_type": "code",
   "execution_count": null,
   "metadata": {},
   "outputs": [],
   "source": []
  },
  {
   "cell_type": "code",
   "execution_count": null,
   "metadata": {},
   "outputs": [],
   "source": []
  },
  {
   "cell_type": "code",
   "execution_count": null,
   "metadata": {},
   "outputs": [],
   "source": []
  },
  {
   "cell_type": "code",
   "execution_count": null,
   "metadata": {},
   "outputs": [],
   "source": []
  },
  {
   "cell_type": "code",
   "execution_count": null,
   "metadata": {},
   "outputs": [],
   "source": []
  },
  {
   "cell_type": "code",
   "execution_count": null,
   "metadata": {},
   "outputs": [],
   "source": []
  },
  {
   "cell_type": "code",
   "execution_count": null,
   "metadata": {},
   "outputs": [],
   "source": []
  },
  {
   "cell_type": "code",
   "execution_count": null,
   "metadata": {},
   "outputs": [],
   "source": []
  },
  {
   "cell_type": "code",
   "execution_count": null,
   "metadata": {},
   "outputs": [],
   "source": []
  },
  {
   "cell_type": "code",
   "execution_count": null,
   "metadata": {},
   "outputs": [],
   "source": []
  },
  {
   "cell_type": "code",
   "execution_count": null,
   "metadata": {},
   "outputs": [],
   "source": []
  },
  {
   "cell_type": "code",
   "execution_count": null,
   "metadata": {},
   "outputs": [],
   "source": []
  },
  {
   "cell_type": "code",
   "execution_count": null,
   "metadata": {},
   "outputs": [],
   "source": []
  },
  {
   "cell_type": "code",
   "execution_count": null,
   "metadata": {},
   "outputs": [],
   "source": []
  },
  {
   "cell_type": "code",
   "execution_count": null,
   "metadata": {},
   "outputs": [],
   "source": []
  },
  {
   "cell_type": "code",
   "execution_count": null,
   "metadata": {},
   "outputs": [],
   "source": []
  },
  {
   "cell_type": "code",
   "execution_count": null,
   "metadata": {},
   "outputs": [],
   "source": []
  },
  {
   "cell_type": "code",
   "execution_count": null,
   "metadata": {},
   "outputs": [],
   "source": []
  }
 ],
 "metadata": {
  "kernelspec": {
   "display_name": "ocr-project-venv",
   "language": "python",
   "name": "python3"
  },
  "language_info": {
   "codemirror_mode": {
    "name": "ipython",
    "version": 3
   },
   "file_extension": ".py",
   "mimetype": "text/x-python",
   "name": "python",
   "nbconvert_exporter": "python",
   "pygments_lexer": "ipython3",
   "version": "3.10.7"
  },
  "orig_nbformat": 4
 },
 "nbformat": 4,
 "nbformat_minor": 2
}

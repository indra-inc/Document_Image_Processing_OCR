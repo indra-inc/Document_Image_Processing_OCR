{
 "cells": [
  {
   "cell_type": "code",
   "execution_count": 2,
   "metadata": {},
   "outputs": [],
   "source": [
    "## Importing lib\n",
    "import matplotlib.pyplot as plt\n",
    "%matplotlib inline\n",
    "import warnings\n",
    "warnings.filterwarnings(\"ignore\")\n",
    "plt.style.use('dark_background')\n",
    "\n",
    "\n",
    "import os\n",
    "import shutil\n",
    "import fitz\n",
    "import sys\n",
    "from PIL import Image\n",
    "from tqdm import tqdm"
   ]
  },
  {
   "cell_type": "code",
   "execution_count": 3,
   "metadata": {},
   "outputs": [],
   "source": [
    "def pdfSplitting(input_folder_path):\n",
    "    \n",
    "  ## Step-1 : Checking and creating existance of output main path and directory\n",
    "\n",
    "  ## Write the name of the folder\n",
    "  output_folder_name = 'All_splitted_Processed_Image'\n",
    "\n",
    "  output_image_folder_path = os.path.join(input_folder_path, output_folder_name)\n",
    "  \n",
    "  ## For Image\n",
    "  isExisting_dir = os.path.exists(output_image_folder_path)        # Checking if the image dir exists \n",
    "\n",
    "    # Remove same name folder if it exists\n",
    "  if isExisting_dir:\n",
    "    shutil.rmtree(output_image_folder_path)\n",
    "\n",
    "  if not isExisting_dir:              # If the path doesn`t exist then create the path and dir                         \n",
    "    os.mkdir(output_image_folder_path)   # Create directory and handle if it already exists\n",
    "\n",
    "  print(' *********  Step-1 : Output PDF and IMAGE Base Folder Checking , Removal and Creating completed successfully ********* ')\n",
    "\n",
    "  ## Step-2: Creating Current file named directory\n",
    "\n",
    "  for filename in os.listdir(input_folder_path):\n",
    "    if filename.endswith('.pdf') or filename.endswith('.PDF'):\n",
    "      file_path = os.path.join(input_folder_path, filename)\n",
    "\n",
    "      # Open the PDF\n",
    "      pdf_doc = fitz.open(file_path)\n",
    "      format='JPEG'\n",
    "      dpi = 200\n",
    "      # Iterate over the pages\n",
    "      for page_idx in range(pdf_doc.page_count):\n",
    "          \n",
    "        # Get the current page\n",
    "        page = pdf_doc[page_idx]\n",
    "        # Convert the page to an RGB image\n",
    "        pix = page.get_pixmap(matrix=fitz.Matrix(dpi/72, dpi/72))\n",
    "        image = Image.frombytes(\"RGB\", [pix.width, pix.height], pix.samples)\n",
    "\n",
    "        # Set the output file name\n",
    "        final_output_image_files = os.path.join(output_image_folder_path, f\"{filename}_page{page_idx+1}.{format.lower()}\")\n",
    "\n",
    "        # Save the image to disk\n",
    "        image.save(final_output_image_files, format=format.lower())      ## also we can write image.writeJPEG(file_name) or image.writePNG(file_name)\n",
    "  # print(\" *********  Step-2 : PDF to Single Page Image Conversion done Successfully ********* \")\n"
   ]
  },
  {
   "cell_type": "code",
   "execution_count": 4,
   "metadata": {},
   "outputs": [
    {
     "name": "stdout",
     "output_type": "stream",
     "text": [
      " *********  Step-1 : Output PDF and IMAGE Base Folder Checking , Removal and Creating completed successfully ********* \n"
     ]
    },
    {
     "name": "stderr",
     "output_type": "stream",
     "text": [
      "0it [00:00, ?it/s]\n"
     ]
    },
    {
     "name": "stdout",
     "output_type": "stream",
     "text": [
      "**************************************** Medical Done ***********************************\n",
      " *********  Step-1 : Output PDF and IMAGE Base Folder Checking , Removal and Creating completed successfully ********* \n"
     ]
    },
    {
     "name": "stderr",
     "output_type": "stream",
     "text": [
      "0it [00:00, ?it/s]\n"
     ]
    },
    {
     "name": "stdout",
     "output_type": "stream",
     "text": [
      "**************************************** Non Medical Done ***********************************\n",
      " *********  Step-1 : Output PDF and IMAGE Base Folder Checking , Removal and Creating completed successfully ********* \n"
     ]
    },
    {
     "name": "stderr",
     "output_type": "stream",
     "text": [
      "0it [00:00, ?it/s]"
     ]
    },
    {
     "name": "stdout",
     "output_type": "stream",
     "text": [
      "**************************************** Bills Done ***********************************\n"
     ]
    },
    {
     "name": "stderr",
     "output_type": "stream",
     "text": [
      "\n"
     ]
    }
   ],
   "source": [
    "input_file_path_medical = './docClass_AMI/test_data_ami/Medical'\n",
    "input_file_path_nonmedical = './docClass_AMI/test_data_ami/NonMedical'\n",
    "input_file_path_bills = './docClass_AMI/test_data_ami/Bills'\n",
    "\n",
    "## Call the function\n",
    "\n",
    "tqdm(pdfSplitting(input_file_path_medical))\n",
    "print('**************************************** Medical Done ***********************************')\n",
    "tqdm(pdfSplitting(input_file_path_nonmedical))\n",
    "print('**************************************** Non Medical Done ***********************************')\n",
    "tqdm(pdfSplitting(input_file_path_bills))\n",
    "print('**************************************** Bills Done ***********************************')"
   ]
  },
  {
   "cell_type": "code",
   "execution_count": null,
   "metadata": {},
   "outputs": [],
   "source": []
  },
  {
   "cell_type": "code",
   "execution_count": null,
   "metadata": {},
   "outputs": [],
   "source": []
  },
  {
   "cell_type": "code",
   "execution_count": null,
   "metadata": {},
   "outputs": [],
   "source": []
  },
  {
   "cell_type": "code",
   "execution_count": null,
   "metadata": {},
   "outputs": [],
   "source": []
  },
  {
   "cell_type": "code",
   "execution_count": null,
   "metadata": {},
   "outputs": [],
   "source": []
  },
  {
   "cell_type": "code",
   "execution_count": null,
   "metadata": {},
   "outputs": [],
   "source": []
  },
  {
   "cell_type": "code",
   "execution_count": null,
   "metadata": {},
   "outputs": [],
   "source": []
  },
  {
   "cell_type": "code",
   "execution_count": null,
   "metadata": {},
   "outputs": [],
   "source": []
  },
  {
   "cell_type": "code",
   "execution_count": null,
   "metadata": {},
   "outputs": [],
   "source": []
  },
  {
   "cell_type": "code",
   "execution_count": null,
   "metadata": {},
   "outputs": [],
   "source": []
  },
  {
   "cell_type": "code",
   "execution_count": null,
   "metadata": {},
   "outputs": [],
   "source": []
  },
  {
   "cell_type": "code",
   "execution_count": null,
   "metadata": {},
   "outputs": [],
   "source": []
  },
  {
   "cell_type": "code",
   "execution_count": null,
   "metadata": {},
   "outputs": [],
   "source": []
  },
  {
   "cell_type": "code",
   "execution_count": null,
   "metadata": {},
   "outputs": [],
   "source": []
  },
  {
   "cell_type": "code",
   "execution_count": null,
   "metadata": {},
   "outputs": [],
   "source": []
  },
  {
   "cell_type": "code",
   "execution_count": null,
   "metadata": {},
   "outputs": [],
   "source": []
  },
  {
   "cell_type": "code",
   "execution_count": null,
   "metadata": {},
   "outputs": [],
   "source": []
  },
  {
   "cell_type": "code",
   "execution_count": null,
   "metadata": {},
   "outputs": [],
   "source": []
  },
  {
   "cell_type": "code",
   "execution_count": null,
   "metadata": {},
   "outputs": [],
   "source": []
  },
  {
   "cell_type": "code",
   "execution_count": null,
   "metadata": {},
   "outputs": [],
   "source": []
  }
 ],
 "metadata": {
  "kernelspec": {
   "display_name": "ocr-project-venv",
   "language": "python",
   "name": "python3"
  },
  "language_info": {
   "codemirror_mode": {
    "name": "ipython",
    "version": 3
   },
   "file_extension": ".py",
   "mimetype": "text/x-python",
   "name": "python",
   "nbconvert_exporter": "python",
   "pygments_lexer": "ipython3",
   "version": "3.10.7"
  },
  "orig_nbformat": 4
 },
 "nbformat": 4,
 "nbformat_minor": 2
}

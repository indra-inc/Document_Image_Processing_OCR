{
 "cells": [
  {
   "cell_type": "code",
   "execution_count": null,
   "metadata": {},
   "outputs": [],
   "source": [
    "from PIL import Image\n",
    "\n",
    "def auto_rotate(image_path):\n",
    "    with Image.open(image_path) as image:\n",
    "        # convert to grayscale for better edge detection\n",
    "        grayscale_image = image.convert('L')\n",
    "        \n",
    "        # apply edge detection filter\n",
    "        edge_image = grayscale_image.filter(ImageFilter.FIND_EDGES)\n",
    "        \n",
    "        # apply hough transform to detect lines\n",
    "        lines = edge_image.convert('1').hough_transform().peaks()\n",
    "        \n",
    "        # calculate angle of rotation based on the most prominent line\n",
    "        rotation_angle = math.degrees(lines[0][1]) if lines else 0\n",
    "        \n",
    "        # rotate image and save\n",
    "        rotated_image = image.rotate(rotation_angle, expand=True)\n",
    "        rotated_image.save(image_path)\n",
    "        \n",
    "# example usage\n",
    "auto_rotate('path/to/scanned/image.png')\n"
   ]
  },
  {
   "cell_type": "code",
   "execution_count": null,
   "metadata": {},
   "outputs": [],
   "source": [
    "import cv2\n",
    "\n",
    "def auto_rotate(image_path):\n",
    "    # load image\n",
    "    img = cv2.imread(image_path)\n",
    "    \n",
    "    # convert to grayscale\n",
    "    gray = cv2.cvtColor(img, cv2.COLOR_BGR2GRAY)\n",
    "    \n",
    "    # apply threshold to remove noise\n",
    "    thresh = cv2.threshold(gray, 0, 255, cv2.THRESH_BINARY_INV + cv2.THRESH_OTSU)[1]\n",
    "    \n",
    "    # apply morphological operations to close gaps and remove small objects\n",
    "    kernel = cv2.getStructuringElement(cv2.MORPH_RECT, (3,3))\n",
    "    close = cv2.morphologyEx(thresh, cv2.MORPH_CLOSE, kernel)\n",
    "    \n",
    "    # find contours and sort by area\n",
    "    contours = cv2.findContours(close, cv2.RETR_EXTERNAL, cv2.CHAIN_APPROX_SIMPLE)[0]\n",
    "    contours = sorted(contours, key=cv2.contourArea, reverse=True)\n",
    "    \n",
    "    # calculate angle of rotation based on largest contour\n",
    "    rect = cv2.minAreaRect(contours[0])\n",
    "    angle = rect[2]\n",
    "    \n",
    "    # rotate image and save\n",
    "    (h, w) = img.shape[:2]\n",
    "    center = (w // 2, h // 2)\n",
    "    M = cv2.getRotationMatrix2D(center, angle, 1.0)\n",
    "    rotated = cv2.warpAffine(img, M, (w, h), flags=cv2.INTER_CUBIC, borderMode=cv2.BORDER_REPLICATE)\n",
    "    cv2.imwrite(image_path, rotated)\n",
    "    \n",
    "# example usage\n",
    "auto_rotate('path/to/scanned/image.png')\n"
   ]
  },
  {
   "cell_type": "code",
   "execution_count": null,
   "metadata": {},
   "outputs": [],
   "source": [
    "import cv2\n",
    "import numpy as np\n",
    "\n",
    "def auto_rotate(image_path):\n",
    "    # load image\n",
    "    img = cv2.imread(image_path)\n",
    "    \n",
    "    # convert to grayscale\n",
    "    gray = cv2.cvtColor(img, cv2.COLOR_BGR2GRAY)\n",
    "    \n",
    "    # apply threshold to remove noise\n",
    "    thresh = cv2.threshold(gray, 0, 255, cv2.THRESH_BINARY_INV + cv2.THRESH_OTSU)[1]\n",
    "    \n",
    "    # apply morphological operations to close gaps and remove small objects\n",
    "    kernel = cv2.getStructuringElement(cv2.MORPH_RECT, (3,3))\n",
    "    close = cv2.morphologyEx(thresh, cv2.MORPH_CLOSE, kernel)\n",
    "    \n",
    "    # detect lines using Hough transform\n",
    "    lines = cv2.HoughLinesP(close, rho=1, theta=np.pi/180, threshold=100, minLineLength=100, maxLineGap=10)\n",
    "    \n",
    "    # calculate angle of rotation based on average angle of lines\n",
    "    angles = []\n",
    "    for line in lines:\n",
    "        x1, y1, x2, y2 = line[0]\n",
    "        angle = np.degrees(np.arctan2(y2 - y1, x2 - x1))\n",
    "        angles.append(angle)\n",
    "    mean_angle = np.mean(angles)\n",
    "    \n",
    "    # rotate image and save\n",
    "    (h, w) = img.shape[:2]\n",
    "    center = (w // 2, h // 2)\n",
    "    M = cv2.getRotationMatrix2D(center, mean_angle, 1.0)\n",
    "    rotated = cv2.warpAffine(img, M, (w, h), flags=cv2.INTER_CUBIC, borderMode=cv2.BORDER_REPLICATE)\n",
    "    cv2.imwrite(image_path, rotated)\n",
    "    \n",
    "# example usage\n",
    "auto_rotate('path/to/scanned/image.png')\n"
   ]
  },
  {
   "cell_type": "code",
   "execution_count": null,
   "metadata": {},
   "outputs": [],
   "source": []
  },
  {
   "cell_type": "code",
   "execution_count": null,
   "metadata": {},
   "outputs": [],
   "source": []
  },
  {
   "cell_type": "code",
   "execution_count": null,
   "metadata": {},
   "outputs": [],
   "source": []
  },
  {
   "cell_type": "code",
   "execution_count": null,
   "metadata": {},
   "outputs": [],
   "source": []
  },
  {
   "cell_type": "code",
   "execution_count": null,
   "metadata": {},
   "outputs": [],
   "source": []
  },
  {
   "cell_type": "code",
   "execution_count": null,
   "metadata": {},
   "outputs": [],
   "source": []
  },
  {
   "cell_type": "code",
   "execution_count": null,
   "metadata": {},
   "outputs": [],
   "source": []
  },
  {
   "cell_type": "code",
   "execution_count": null,
   "metadata": {},
   "outputs": [],
   "source": []
  },
  {
   "cell_type": "code",
   "execution_count": null,
   "metadata": {},
   "outputs": [],
   "source": []
  },
  {
   "cell_type": "code",
   "execution_count": null,
   "metadata": {},
   "outputs": [],
   "source": []
  }
 ],
 "metadata": {
  "kernelspec": {
   "display_name": "ocr-project-venv",
   "language": "python",
   "name": "python3"
  },
  "language_info": {
   "name": "python",
   "version": "3.10.7"
  },
  "orig_nbformat": 4
 },
 "nbformat": 4,
 "nbformat_minor": 2
}

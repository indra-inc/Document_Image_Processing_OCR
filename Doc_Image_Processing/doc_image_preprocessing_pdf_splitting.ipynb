{
  "nbformat": 4,
  "nbformat_minor": 0,
  "metadata": {
    "colab": {
      "provenance": []
    },
    "kernelspec": {
      "name": "python3",
      "display_name": "Python 3"
    },
    "language_info": {
      "name": "python"
    },
    "accelerator": "GPU",
    "gpuClass": "standard"
  },
  "cells": [
    {
      "cell_type": "code",
      "source": [
        "!pip install PyMuPDF\n",
        "!pip install PyPDF2"
      ],
      "metadata": {
        "colab": {
          "base_uri": "https://localhost:8080/"
        },
        "id": "vQWkKGI68yPQ",
        "outputId": "c3a1fc48-4f13-4ccc-a750-08ff2c4c3666"
      },
      "execution_count": null,
      "outputs": [
        {
          "output_type": "stream",
          "name": "stdout",
          "text": [
            "Looking in indexes: https://pypi.org/simple, https://us-python.pkg.dev/colab-wheels/public/simple/\n",
            "Requirement already satisfied: PyMuPDF in /usr/local/lib/python3.9/dist-packages (1.21.1)\n",
            "Looking in indexes: https://pypi.org/simple, https://us-python.pkg.dev/colab-wheels/public/simple/\n",
            "Collecting PyPDF2\n",
            "  Downloading pypdf2-3.0.1-py3-none-any.whl (232 kB)\n",
            "\u001b[2K     \u001b[90m━━━━━━━━━━━━━━━━━━━━━━━━━━━━━━━━━━━━━━━\u001b[0m \u001b[32m232.6/232.6 KB\u001b[0m \u001b[31m8.4 MB/s\u001b[0m eta \u001b[36m0:00:00\u001b[0m\n",
            "\u001b[?25hRequirement already satisfied: typing_extensions>=3.10.0.0 in /usr/local/lib/python3.9/dist-packages (from PyPDF2) (4.5.0)\n",
            "Installing collected packages: PyPDF2\n",
            "Successfully installed PyPDF2-3.0.1\n"
          ]
        }
      ]
    },
    {
      "cell_type": "code",
      "source": [
        "!pip install pillow\n",
        "!pip install pytesseract"
      ],
      "metadata": {
        "colab": {
          "base_uri": "https://localhost:8080/"
        },
        "id": "MLEuS9Lh9LON",
        "outputId": "4e8e958d-c97d-45a7-f7f0-f991fa45b5a6"
      },
      "execution_count": null,
      "outputs": [
        {
          "output_type": "stream",
          "name": "stdout",
          "text": [
            "Looking in indexes: https://pypi.org/simple, https://us-python.pkg.dev/colab-wheels/public/simple/\n",
            "Requirement already satisfied: pillow in /usr/local/lib/python3.9/dist-packages (8.4.0)\n",
            "Looking in indexes: https://pypi.org/simple, https://us-python.pkg.dev/colab-wheels/public/simple/\n",
            "Collecting pytesseract\n",
            "  Downloading pytesseract-0.3.10-py3-none-any.whl (14 kB)\n",
            "Requirement already satisfied: packaging>=21.3 in /usr/local/lib/python3.9/dist-packages (from pytesseract) (23.0)\n",
            "Requirement already satisfied: Pillow>=8.0.0 in /usr/local/lib/python3.9/dist-packages (from pytesseract) (8.4.0)\n",
            "Installing collected packages: pytesseract\n",
            "Successfully installed pytesseract-0.3.10\n"
          ]
        }
      ]
    },
    {
      "cell_type": "code",
      "source": [
        "!pip install tesseract\n"
      ],
      "metadata": {
        "colab": {
          "base_uri": "https://localhost:8080/"
        },
        "id": "tiCUIBP7By-l",
        "outputId": "041cc753-9d57-4b64-92f5-d91dd5ebe358"
      },
      "execution_count": null,
      "outputs": [
        {
          "output_type": "stream",
          "name": "stdout",
          "text": [
            "Looking in indexes: https://pypi.org/simple, https://us-python.pkg.dev/colab-wheels/public/simple/\n",
            "Requirement already satisfied: tesseract in /usr/local/lib/python3.9/dist-packages (0.1.3)\n"
          ]
        }
      ]
    },
    {
      "cell_type": "code",
      "source": [
        "## Importing lib\n",
        "import matplotlib.pyplot as plt\n",
        "%matplotlib inline\n",
        "import warnings\n",
        "warnings.filterwarnings(\"ignore\")\n",
        "plt.style.use('dark_background')\n",
        "\n",
        "\n",
        "import os\n",
        "import shutil\n",
        "import fitz\n",
        "import PyPDF2\n",
        "import sys\n",
        "import cv2\n",
        "import pytesseract as pyt\n",
        "from PIL import Image\n",
        "from tqdm import tqdm"
      ],
      "metadata": {
        "id": "ghuNA-577sl_"
      },
      "execution_count": null,
      "outputs": []
    },
    {
      "cell_type": "code",
      "source": [
        "## Image Read and Preprocessing\n",
        "\n",
        "def readCV(path):\n",
        "\n",
        "    imageRAW = cv2.imread(path, cv2.IMREAD_UNCHANGED)\n",
        "\n",
        "    return imageRAW\n",
        "\n",
        "## Basic Health of the image\n",
        "def healthCheck(image):\n",
        "\n",
        "    print('Here is the Basic Health Check of the Image')\n",
        "    display('Type of the Image is:',type(image))\n",
        "    display('Datatype of the Image:',image.dtype)\n",
        "    display('Shape of the Image:',image.shape)\n",
        "\n",
        "## Gray Scale conversion of the Image\n",
        "def gray(image):\n",
        "\n",
        "    ## Approach-2\n",
        "    imageGray = cv2.cvtColor(image, cv2.COLOR_BGR2GRAY)\n",
        "    return imageGray\n",
        "\n",
        "## Binary Thresolding\n",
        "def binThres(image):\n",
        "\n",
        "    ## Threshold the image to create a binary image  using Otsu’s Binarization\n",
        "\n",
        "    Thresh, imgBinThres = cv2.threshold(image, 0, 255, cv2.THRESH_BINARY | cv2.THRESH_OTSU)\n",
        "\n",
        "    return imgBinThres\n",
        "\n",
        " ## Resizing with scale factor\n",
        "def resizeScaling(image):\n",
        "\n",
        "    ## As cv2 shape come up with height and width format\n",
        "    height, width = image.shape[:2]\n",
        "    scale_factor =  2.0        # float(input('Put the Scale Factor :'))\n",
        "\n",
        "    ## Resize the image as per the scale factpr\n",
        "    new_width = int(width * scale_factor)\n",
        "    new_height = int(height * scale_factor)\n",
        "    new_size = (new_width, new_height)\n",
        "\n",
        "    # Resize the image using the new dimensions\n",
        "    imgScaled = cv2.resize(image, new_size, fx = 1.2, fy = 1.5, interpolation = cv2.INTER_LINEAR)\n",
        "\n",
        "    ## fx: A scaling factor along the horizontal axis.\n",
        "    ## fy: A scaling factor along the vertical axis.\n",
        "\n",
        "    return imgScaled\n",
        "\n",
        "\n",
        "# Denoising of image saving it into dst image\n",
        "def noiseRem(image):\n",
        "\n",
        "    imgDenoise1 = cv2.fastNlMeansDenoising(image, None, 10, 7, 21)\n",
        "\n",
        "    return imgDenoise1"
      ],
      "metadata": {
        "id": "UjWOUP9A7sif"
      },
      "execution_count": null,
      "outputs": []
    },
    {
      "cell_type": "code",
      "source": [
        "## function to split pdf into single pages and images & store it into different database\n",
        "\n",
        "def pdfSplitExtract(input_file_path, output_pdf_folder_path, output_image_folder_path):\n",
        "\n",
        "    ## Step-1 : Checking and creating existance of output main path and directory\n",
        "\n",
        "    ## Write the name of the folder\n",
        "    pdf_output_folder_name = 'splitted_pdf_files'\n",
        "    image_output_folder_name = 'splitted_image_txt_files'\n",
        "\n",
        "    ## For pdf\n",
        "    isExisting_pdf = os.path.exists(output_pdf_folder_path)             #Checking if the pdf dir exists\n",
        "\n",
        "    if not isExisting_pdf:              # If the pdf path doesn`t exist then create the path and dir\n",
        "        os.mkdir(f\"/content/drive/MyDrive/Ami_Test_Phase1/{pdf_output_folder_name}/\")\n",
        "\n",
        "    ## For Image\n",
        "    isExisting_img = os.path.exists(output_image_folder_path)           #Checking if the image dir exists\n",
        "\n",
        "    if not isExisting_img:              # If the path doesn`t exist then create the path and dir\n",
        "        os.mkdir(f\"/content/drive/MyDrive/Ami_Test_Phase1/{image_output_folder_name}/\")\n",
        "\n",
        "    print(' *********  Step-1 : Output PDF and IMAGE Base Folder Checking , Removal and Creating completed successfully ********* ')\n",
        "\n",
        "    ## Step-2: Creating Current file named directory\n",
        "\n",
        "    ## Extract file name\n",
        "\n",
        "    filename = os.path.basename(input_file_path)   # Split the input filename from the full path\n",
        "\n",
        "    current_pdf_dir_name = os.path.splitext(filename)[0]   ## os.path.splitext(filename) will split text and will return tuple\n",
        "\n",
        "    ## PDF output store\n",
        "\n",
        "    # Create current pdf file name directory\n",
        "    output_pdf_file_path = os.path.join(output_pdf_folder_path, current_pdf_dir_name)\n",
        "\n",
        "    # Remove same name folder if it exists\n",
        "    if os.path.exists(output_pdf_file_path):\n",
        "        shutil.rmtree(output_pdf_file_path)\n",
        "\n",
        "    # create the new current pdf named directory if it doesn't exist\n",
        "    if not os.path.exists(output_pdf_file_path):\n",
        "        os.mkdir(output_pdf_file_path)\n",
        "\n",
        "    ## Image output store\n",
        "\n",
        "    # Create current image file name directory\n",
        "    output_image_file_path = os.path.join(output_image_folder_path, current_pdf_dir_name)\n",
        "\n",
        "    # Remove same name folder if it exists\n",
        "    if os.path.exists(output_image_file_path):\n",
        "        shutil.rmtree(output_image_file_path)\n",
        "\n",
        "    # create the new directory if it doesn't exist\n",
        "    if not os.path.exists(output_image_file_path):\n",
        "        os.mkdir(output_image_file_path)\n",
        "\n",
        "    print(' *********  Step-2 : Output Sub/Current File Named Folder Checking , Removal and Creating completed successfully ********* ')\n",
        "\n",
        "    ## Step-3: Split whole pdf into multiple single pdf pages and store it into the pdf named folder\n",
        "\n",
        "    # Open the PDF file in read-binary mode\n",
        "    with open(input_file_path, 'rb') as file:\n",
        "\n",
        "        # Create a PDF reader object\n",
        "        pdf_reader = PyPDF2.PdfReader(file)\n",
        "        # print(pdf_reader)\n",
        "\n",
        "        # Get the total number of pages in the PDF file\n",
        "        num_pages = len(pdf_reader.pages)\n",
        "        # print(num_pages)\n",
        "\n",
        "        # Loop through each page of the PDF file\n",
        "        for page_num in range(num_pages):\n",
        "            # print(page_num)\n",
        "\n",
        "            # Showing each page\n",
        "            page = pdf_reader.pages[page_num]\n",
        "\n",
        "            # Create a new PDF writer object\n",
        "            pdf_writer = PyPDF2.PdfWriter()\n",
        "\n",
        "            # Add the current page to the new PDF writer object\n",
        "            pdf_writer.add_page(page)\n",
        "\n",
        "\n",
        "            ## Save the current page as a new PDF file with a name that includes the page number\n",
        "            final_output_pdf_files = os.path.join(output_pdf_file_path, f'{current_pdf_dir_name}_page_{page_num+1}.pdf')\n",
        "\n",
        "            # Remove the old pdf files with same name if it exists\n",
        "            if os.path.exists(final_output_pdf_files):\n",
        "                os.remove(final_output_pdf_files)\n",
        "\n",
        "            with open(final_output_pdf_files, 'wb') as output_pdf_file:\n",
        "                pdf_writer.write(output_pdf_file)\n",
        "\n",
        "\n",
        "        print(\" *********  Step-3 : PDF to Single PDF Pages done Successfully ********* \")\n",
        "\n",
        "        ## Step-4: Split whole pdf into multiple single images of each pages and store it into the pdf named folder\n",
        "\n",
        "        # Open the PDF\n",
        "        pdf_doc = fitz.open(input_file_path)\n",
        "        format='JPEG'\n",
        "        dpi = 200\n",
        "        # Iterate over the pages\n",
        "        for page_idx in range(pdf_doc.page_count):\n",
        "\n",
        "            # Get the current page\n",
        "            page = pdf_doc[page_idx]\n",
        "            # Convert the page to an RGB image\n",
        "            pix = page.get_pixmap(matrix=fitz.Matrix(dpi/72, dpi/72))\n",
        "            image = Image.frombytes(\"RGB\", [pix.width, pix.height], pix.samples)\n",
        "            # Set the output file name\n",
        "\n",
        "            final_output_image_files = os.path.join(output_image_file_path, f\"{current_pdf_dir_name}_page{page_idx+1}.{format.lower()}\")\n",
        "\n",
        "            # Remove the old image files with same name if it exists\n",
        "            if os.path.exists(final_output_image_files):\n",
        "                os.remove(final_output_image_files)\n",
        "\n",
        "            # Save the image to disk\n",
        "            image.save(final_output_image_files, format=format.lower())      ## also we can write image.writeJPEG(file_name) or image.writePNG(file_name)\n",
        "\n",
        "        # # Close the PDF document and image\n",
        "        # pdf_doc.close()\n",
        "        # image.close()\n",
        "        print(\" *********  Step-4 : PDF to Single Page Image Conversion done Successfully ********* \")\n",
        "\n",
        "        ## Step-5: Convert Image to text without and with preprocessing and store it on text file\n",
        "\n",
        "        ## Creating output text file & path where extracted text will be printed\n",
        "        output_file = os.path.join(output_image_file_path, f'Extracted_text_{current_pdf_dir_name}.txt')\n",
        "\n",
        "        # Check if the text file already exists\n",
        "        if os.path.exists(output_file):\n",
        "            os.remove(output_file)\n",
        "            print(f\"Deleted existing text file named {output_file}\")\n",
        "\n",
        "        ## Get access of list of ONLY image file paths in folder\n",
        "        # image_file_list = [f for f in os.listdir(input_folder) if f.lower().endswith(('.jpeg'))]\n",
        "        image_file_list = [os.path.join(output_image_file_path, f) for f in os.listdir(output_image_file_path)\n",
        "                           if os.path.isfile(os.path.join(output_image_file_path, f)) and f.lower().endswith(('.jpg', '.jpeg', '.png'))]\n",
        "        # print(image_file_list)\n",
        "\n",
        "        with open(output_file, 'w') as file:\n",
        "            for image_file in image_file_list:\n",
        "\n",
        "                # image_path = os.path.join(input_folder, image_file)\n",
        "                imgRaw = readCV(image_file)\n",
        "                # healthCheck(imgRaw)\n",
        "\n",
        "                ## Without Preprocessing\n",
        "                text_wo = pyt.image_to_string(imgRaw)\n",
        "                file.write(f\"\\n\\n ******************************** Text extracted from {image_file} Before Preprocessing *********************************** \\n\\n{text_wo}\\n\\n\")\n",
        "\n",
        "                ## Preprocessing\n",
        "                imgGray = gray(imgRaw)\n",
        "                imgBinTh = binThres(imgGray)\n",
        "                imgScaled = resizeScaling(imgBinTh)\n",
        "                imgDenoise = noiseRem(imgScaled)\n",
        "\n",
        "                text_w = pyt.image_to_string(imgDenoise)\n",
        "                file.write(f\"\\n\\n ******************************** Text extracted from {image_file} After Preprocessing *********************************** \\n\\n{text_w}\\n\\n\")\n",
        "\n",
        "        print(\" *********  Step-5 : Image to Text Extraction without and With Preprocessing done Successfully ********* \")\n",
        "\n",
        ""
      ],
      "metadata": {
        "id": "UCl9CeSU7sW4"
      },
      "execution_count": null,
      "outputs": []
    },
    {
      "cell_type": "code",
      "source": [
        "!sudo apt install tesseract-ocr"
      ],
      "metadata": {
        "colab": {
          "base_uri": "https://localhost:8080/"
        },
        "id": "B9X8ZQrtD4Vg",
        "outputId": "599e5008-1a6c-47c8-d271-654fdfe4f618"
      },
      "execution_count": null,
      "outputs": [
        {
          "output_type": "stream",
          "name": "stdout",
          "text": [
            "Reading package lists... Done\n",
            "Building dependency tree       \n",
            "Reading state information... Done\n",
            "The following package was automatically installed and is no longer required:\n",
            "  libnvidia-common-525\n",
            "Use 'sudo apt autoremove' to remove it.\n",
            "The following additional packages will be installed:\n",
            "  tesseract-ocr-eng tesseract-ocr-osd\n",
            "The following NEW packages will be installed:\n",
            "  tesseract-ocr tesseract-ocr-eng tesseract-ocr-osd\n",
            "0 upgraded, 3 newly installed, 0 to remove and 23 not upgraded.\n",
            "Need to get 4,850 kB of archives.\n",
            "After this operation, 16.3 MB of additional disk space will be used.\n",
            "Get:1 http://archive.ubuntu.com/ubuntu focal/universe amd64 tesseract-ocr-eng all 1:4.00~git30-7274cfa-1 [1,598 kB]\n",
            "Get:2 http://archive.ubuntu.com/ubuntu focal/universe amd64 tesseract-ocr-osd all 1:4.00~git30-7274cfa-1 [2,990 kB]\n",
            "Get:3 http://archive.ubuntu.com/ubuntu focal/universe amd64 tesseract-ocr amd64 4.1.1-2build2 [262 kB]\n",
            "Fetched 4,850 kB in 2s (2,763 kB/s)\n",
            "debconf: unable to initialize frontend: Dialog\n",
            "debconf: (No usable dialog-like program is installed, so the dialog based frontend cannot be used. at /usr/share/perl5/Debconf/FrontEnd/Dialog.pm line 76, <> line 3.)\n",
            "debconf: falling back to frontend: Readline\n",
            "debconf: unable to initialize frontend: Readline\n",
            "debconf: (This frontend requires a controlling tty.)\n",
            "debconf: falling back to frontend: Teletype\n",
            "dpkg-preconfigure: unable to re-open stdin: \n",
            "Selecting previously unselected package tesseract-ocr-eng.\n",
            "(Reading database ... 128293 files and directories currently installed.)\n",
            "Preparing to unpack .../tesseract-ocr-eng_1%3a4.00~git30-7274cfa-1_all.deb ...\n",
            "Unpacking tesseract-ocr-eng (1:4.00~git30-7274cfa-1) ...\n",
            "Selecting previously unselected package tesseract-ocr-osd.\n",
            "Preparing to unpack .../tesseract-ocr-osd_1%3a4.00~git30-7274cfa-1_all.deb ...\n",
            "Unpacking tesseract-ocr-osd (1:4.00~git30-7274cfa-1) ...\n",
            "Selecting previously unselected package tesseract-ocr.\n",
            "Preparing to unpack .../tesseract-ocr_4.1.1-2build2_amd64.deb ...\n",
            "Unpacking tesseract-ocr (4.1.1-2build2) ...\n",
            "Setting up tesseract-ocr-eng (1:4.00~git30-7274cfa-1) ...\n",
            "Setting up tesseract-ocr-osd (1:4.00~git30-7274cfa-1) ...\n",
            "Setting up tesseract-ocr (4.1.1-2build2) ...\n",
            "Processing triggers for man-db (2.9.1-1) ...\n"
          ]
        }
      ]
    },
    {
      "cell_type": "code",
      "source": [
        "\n",
        "user_input = str(input(\"Write the file name: \"))\n",
        "# input_file_path = './All_pdf_image_txt/test_pdf_full/' + user_input + '.pdf'\n",
        "input_file_path_ami = '/content/drive/MyDrive/Ami_Test_Phase1/test_Ami/' + user_input + '.pdf'\n",
        "\n",
        "output_pdf_folder_path = '/content/drive/MyDrive/Ami_Test_Phase1/splitted_pdf_files'\n",
        "output_image_folder_path = '/content/drive/MyDrive/Ami_Test_Phase1/splitted_image_txt_files'\n",
        "\n",
        "## Call the function\n",
        "\n",
        "tqdm(pdfSplitExtract(input_file_path_ami, output_pdf_folder_path, output_image_folder_path))"
      ],
      "metadata": {
        "colab": {
          "base_uri": "https://localhost:8080/"
        },
        "id": "LJfZNOEl7sUH",
        "outputId": "ded30936-6f24-496d-b4ca-008d4688f880"
      },
      "execution_count": null,
      "outputs": [
        {
          "output_type": "stream",
          "name": "stdout",
          "text": [
            "Write the file name: Gloria Test\n",
            " *********  Step-1 : Output PDF and IMAGE Base Folder Checking , Removal and Creating completed successfully ********* \n",
            " *********  Step-2 : Output Sub/Current File Named Folder Checking , Removal and Creating completed successfully ********* \n",
            " *********  Step-3 : PDF to Single PDF Pages done Successfully ********* \n",
            " *********  Step-4 : PDF to Single Page Image Conversion done Successfully ********* \n"
          ]
        }
      ]
    },
    {
      "cell_type": "code",
      "source": [
        "# /content/drive/MyDrive/Ami_Test_Phase1/splitted_pdf_files"
      ],
      "metadata": {
        "id": "EARpdXli7sRb"
      },
      "execution_count": null,
      "outputs": []
    },
    {
      "cell_type": "code",
      "source": [],
      "metadata": {
        "id": "7CQ98GEf7sOx"
      },
      "execution_count": null,
      "outputs": []
    },
    {
      "cell_type": "code",
      "source": [],
      "metadata": {
        "id": "NQnEfahP7sL_"
      },
      "execution_count": null,
      "outputs": []
    },
    {
      "cell_type": "code",
      "source": [],
      "metadata": {
        "id": "bDncJsi27sJP"
      },
      "execution_count": null,
      "outputs": []
    },
    {
      "cell_type": "code",
      "source": [],
      "metadata": {
        "id": "G5bjOyQT7sGx"
      },
      "execution_count": null,
      "outputs": []
    },
    {
      "cell_type": "code",
      "source": [],
      "metadata": {
        "id": "-dSoVIps7sD_"
      },
      "execution_count": null,
      "outputs": []
    },
    {
      "cell_type": "code",
      "execution_count": null,
      "metadata": {
        "id": "Wn6QaCg17rYl"
      },
      "outputs": [],
      "source": []
    }
  ]
}